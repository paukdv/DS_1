{
  "nbformat": 4,
  "nbformat_minor": 0,
  "metadata": {
    "colab": {
      "provenance": []
    },
    "kernelspec": {
      "name": "python3",
      "display_name": "Python 3"
    },
    "language_info": {
      "name": "python"
    }
  },
  "cells": [
    {
      "cell_type": "markdown",
      "source": [
        "**Домашнє завдання [Модуль 1](https://www.edu.goit.global/uk/learn/8016568/12451952/12451981/training)**\n",
        "\n",
        "---"
      ],
      "metadata": {
        "id": "K-L__K-_IzZL"
      }
    },
    {
      "cell_type": "markdown",
      "source": [
        "1. Створіть одновимірний масив (вектор) з першими 10-ма натуральними числами та виведіть його значення."
      ],
      "metadata": {
        "id": "kqPV09wWJGHo"
      }
    },
    {
      "cell_type": "code",
      "source": [
        "import numpy as np\n",
        "\n",
        "a = np.arange(1, 11)\n",
        "print(\"Вектор з першими 10-ма натуральними числами:\", a)"
      ],
      "metadata": {
        "colab": {
          "base_uri": "https://localhost:8080/"
        },
        "id": "w5QocMVVLaEx",
        "outputId": "4b1537d2-9eda-4383-d249-169c45d2d1b7"
      },
      "execution_count": null,
      "outputs": [
        {
          "output_type": "stream",
          "name": "stdout",
          "text": [
            "Вектор з першими 10-ма натуральними числами: [ 1  2  3  4  5  6  7  8  9 10]\n"
          ]
        }
      ]
    },
    {
      "cell_type": "markdown",
      "source": [
        "2. Створіть двовимірний масив (матрицю) розміром 3x3, заповніть його нулями та виведіть його значення."
      ],
      "metadata": {
        "id": "M-5_CGNrJiFt"
      }
    },
    {
      "cell_type": "code",
      "source": [
        "import numpy as np\n",
        "\n",
        "A = np.zeros((3, 3), dtype=int)\n",
        "print(A)"
      ],
      "metadata": {
        "colab": {
          "base_uri": "https://localhost:8080/"
        },
        "id": "d5Z43t14VFdI",
        "outputId": "ad8a9a9e-98f3-47b5-b46c-c9a65a31e8a2"
      },
      "execution_count": null,
      "outputs": [
        {
          "output_type": "stream",
          "name": "stdout",
          "text": [
            "[[0 0 0]\n",
            " [0 0 0]\n",
            " [0 0 0]]\n"
          ]
        }
      ]
    },
    {
      "cell_type": "markdown",
      "source": [
        "3. Створіть масив розміром 5x5, заповніть його випадковими цілими числами в діапазоні від 1 до 10 та виведіть його значення."
      ],
      "metadata": {
        "id": "BxOoVBAUJm-w"
      }
    },
    {
      "cell_type": "code",
      "source": [
        "import numpy as np\n",
        "\n",
        "B = np.random.randint(1, 11, size=(5, 5))\n",
        "print(B)"
      ],
      "metadata": {
        "colab": {
          "base_uri": "https://localhost:8080/"
        },
        "id": "IlYeLjuJWNI3",
        "outputId": "8cc97ac6-4a0a-4db1-a731-0bfcbb173c75"
      },
      "execution_count": null,
      "outputs": [
        {
          "output_type": "stream",
          "name": "stdout",
          "text": [
            "[[ 3  2  1  4  1]\n",
            " [ 9  8  8  9  7]\n",
            " [ 4  1  5  5  5]\n",
            " [ 1  8  7  1  7]\n",
            " [ 5  8  8 10  3]]\n"
          ]
        }
      ]
    },
    {
      "cell_type": "markdown",
      "source": [
        "4. Створіть масив розміром 4x4, заповніть його випадковими дійсними числами в діапазоні від 0 до 1 та виведіть його значення."
      ],
      "metadata": {
        "id": "2DDoH4cCJp1A"
      }
    },
    {
      "cell_type": "code",
      "source": [
        "import numpy as np\n",
        "\n",
        "B = np.random.rand(4, 4)\n",
        "print(B)"
      ],
      "metadata": {
        "colab": {
          "base_uri": "https://localhost:8080/"
        },
        "id": "uEr8wQ9RSlsO",
        "outputId": "91b9aca2-6dfb-49b4-aacd-06a179140ff8"
      },
      "execution_count": null,
      "outputs": [
        {
          "output_type": "stream",
          "name": "stdout",
          "text": [
            "[[0.38945306 0.849978   0.08539156 0.39578892]\n",
            " [0.74502654 0.53341389 0.94330116 0.74251748]\n",
            " [0.77597746 0.94538843 0.73340494 0.98993891]\n",
            " [0.44595493 0.73327153 0.3427759  0.7574825 ]]\n"
          ]
        }
      ]
    },
    {
      "cell_type": "markdown",
      "source": [
        "5. Створіть два одновимірних масиви розміром 5, заповніть їх випадковими цілими числами в діапазоні від 1 до 10 та виконайте на них поелементні операції додавання, віднімання та множення."
      ],
      "metadata": {
        "id": "WJSIMHkGJuGb"
      }
    },
    {
      "cell_type": "code",
      "source": [
        "import numpy as np\n",
        "\n",
        "a = np.random.randint(1, 11, size=(5))\n",
        "b = np.random.randint(1, 11, size=(5))\n",
        "\n",
        "print(\"Результат додавання двох масивів: \", a + b)\n",
        "print(\"Результат віднімання двох масивів: \", a - b)\n",
        "print(\"Результат множення двох масивів: \", a * b)"
      ],
      "metadata": {
        "colab": {
          "base_uri": "https://localhost:8080/"
        },
        "id": "pQDFqJOCWXTb",
        "outputId": "ba8886e6-3259-41e4-aadd-910058ecc432"
      },
      "execution_count": null,
      "outputs": [
        {
          "output_type": "stream",
          "name": "stdout",
          "text": [
            "Результат додавання двох масивів:  [13  8  4  8 12]\n",
            "Результат віднімання двох масивів:  [-5  0  2 -4  6]\n",
            "Результат множення двох масивів:  [36 16  3 12 27]\n"
          ]
        }
      ]
    },
    {
      "cell_type": "markdown",
      "source": [
        "6. Створіть два вектори розміром 7, заповніть довільними числами та знайдіть їх скалярний добуток."
      ],
      "metadata": {
        "id": "1x_qLjERKPfJ"
      }
    },
    {
      "cell_type": "code",
      "source": [
        "import numpy as np\n",
        "\n",
        "a = np.array([1, 2, 3, 4, 5, 6, 7])\n",
        "b = np.array([7, 6, 5, 4, 3, 2, 1])\n",
        "\n",
        "print(\"Результат склярного добутку векторів a та b: \", np.dot(a, b))\n"
      ],
      "metadata": {
        "colab": {
          "base_uri": "https://localhost:8080/"
        },
        "id": "DhNRucgLbZFZ",
        "outputId": "c6d20503-03d0-43d4-93aa-eb464bde3bc3"
      },
      "execution_count": null,
      "outputs": [
        {
          "output_type": "stream",
          "name": "stdout",
          "text": [
            "Результат склярного добутку векторів a та b:  84\n"
          ]
        }
      ]
    },
    {
      "cell_type": "markdown",
      "source": [
        "7. Створіть дві матриці розміром 2x2 та 2x3, заповніть їх випадковими цілими числами в діапазоні від 1 до 10 та перемножте їх між собою."
      ],
      "metadata": {
        "id": "ReGBpp4pKsfJ"
      }
    },
    {
      "cell_type": "code",
      "source": [
        "import numpy as np\n",
        "\n",
        "A = np.random.randint(1, 11, size=(2, 2))\n",
        "B = np.random.randint(1, 11, size=(2, 3))\n",
        "result =  np.dot(A, B)\n",
        "\n",
        "print(\"Результат множення матриць A та B:\\n\", result)"
      ],
      "metadata": {
        "colab": {
          "base_uri": "https://localhost:8080/"
        },
        "id": "aF6TCulyd1p_",
        "outputId": "c64ded6a-0989-41ba-b744-b1e1db2fd426"
      },
      "execution_count": null,
      "outputs": [
        {
          "output_type": "stream",
          "name": "stdout",
          "text": [
            "Результат множення матриць A та B:\n",
            " [[100  90  90]\n",
            " [ 78  77  75]]\n"
          ]
        }
      ]
    },
    {
      "cell_type": "markdown",
      "source": [
        "8. Створіть матрицю розміром 3x3, заповніть її випадковими цілими числами в діапазоні від 1 до 10 та знайдіть її обернену матрицю."
      ],
      "metadata": {
        "id": "EtbpezrpKudY"
      }
    },
    {
      "cell_type": "code",
      "source": [
        "import numpy as np\n",
        "\n",
        "A = np.random.randint(1, 11, size=(3, 3))\n",
        "a_inv = np.linalg.inv(A)\n",
        "\n",
        "print(a_inv)"
      ],
      "metadata": {
        "colab": {
          "base_uri": "https://localhost:8080/"
        },
        "id": "uoHYIMIefgIO",
        "outputId": "cef3d4f0-06f6-49a6-c3a8-a8f92a993207"
      },
      "execution_count": null,
      "outputs": [
        {
          "output_type": "stream",
          "name": "stdout",
          "text": [
            "[[ 0.23076923 -0.62820513  0.26923077]\n",
            " [-0.30769231  0.78205128 -0.19230769]\n",
            " [ 0.15384615  0.02564103 -0.15384615]]\n"
          ]
        }
      ]
    },
    {
      "cell_type": "markdown",
      "source": [
        "9. Створіть матрицю розміром 4x4, заповніть її випадковими дійсними числами в діапазоні від 0 до 1 та транспонуйте її."
      ],
      "metadata": {
        "id": "0qMbdfs9KxVe"
      }
    },
    {
      "cell_type": "code",
      "source": [
        "import numpy as np\n",
        "\n",
        "A = np.random.rand(4, 4)\n",
        "B = A.T\n",
        "\n",
        "print(B)"
      ],
      "metadata": {
        "colab": {
          "base_uri": "https://localhost:8080/"
        },
        "id": "ez5mGKK3gqcj",
        "outputId": "89e76352-7b18-4f49-821e-5ed3d2f3a999"
      },
      "execution_count": null,
      "outputs": [
        {
          "output_type": "stream",
          "name": "stdout",
          "text": [
            "[[0.17714069 0.08710934 0.38378419 0.1051275 ]\n",
            " [0.89964767 0.68888659 0.43777866 0.81708074]\n",
            " [0.13640194 0.94617281 0.32501967 0.21763684]\n",
            " [0.02043765 0.76985925 0.35575871 0.27167775]]\n"
          ]
        }
      ]
    },
    {
      "cell_type": "markdown",
      "source": [
        "10. Створіть матрицю розміром 3x4 та вектор розміром 4, заповніть їх випадковими цілими числами в діапазоні від 1 до 10 та перемножте матрицю на вектор."
      ],
      "metadata": {
        "id": "1qAE8IehK0VK"
      }
    },
    {
      "cell_type": "code",
      "source": [
        "import numpy as np\n",
        "\n",
        "A = np.random.randint(1, 11, size=(3, 4))\n",
        "b = np.random.randint(1, 11, size=4)\n",
        "\n",
        "result = np.dot(A, b)\n",
        "\n",
        "print(\"Результат множення матриці на вектор:\\n\", result)"
      ],
      "metadata": {
        "colab": {
          "base_uri": "https://localhost:8080/"
        },
        "id": "X-qpBWrXhMQH",
        "outputId": "963cc579-0895-4ae5-b506-d6ae26681453"
      },
      "execution_count": null,
      "outputs": [
        {
          "output_type": "stream",
          "name": "stdout",
          "text": [
            "Результат множення матриці на вектор:\n",
            " [200 179 126]\n"
          ]
        }
      ]
    },
    {
      "cell_type": "markdown",
      "source": [
        "11. Створіть матрицю розміром 2x3 та вектор розміром 3, заповніть їх випадковими дійсними числами в діапазоні від 0 до 1 та перемножте матрицю на вектор."
      ],
      "metadata": {
        "id": "qQBgExKmK32a"
      }
    },
    {
      "cell_type": "code",
      "source": [
        "import numpy as np\n",
        "\n",
        "A = np.random.rand(2, 3)\n",
        "b = np.random.rand(3)\n",
        "\n",
        "result = np.dot(A, b)\n",
        "\n",
        "print(\"Результат множення матриці на вектор:\\n\", result)"
      ],
      "metadata": {
        "colab": {
          "base_uri": "https://localhost:8080/"
        },
        "id": "fY4DASvPjC9z",
        "outputId": "f5f929a0-1824-4874-a927-a2ec154e9f8b"
      },
      "execution_count": null,
      "outputs": [
        {
          "output_type": "stream",
          "name": "stdout",
          "text": [
            "Результат множення матриці на вектор:\n",
            " [0.31543234 0.68983853]\n"
          ]
        }
      ]
    },
    {
      "cell_type": "markdown",
      "source": [
        "12. Створіть дві матриці розміром 2x2, заповніть їх випадковими цілими числами в діапазоні від 1 до 10 та виконайте їхнє поелементне множення."
      ],
      "metadata": {
        "id": "27KxILZSK7W3"
      }
    },
    {
      "cell_type": "code",
      "source": [
        "import numpy as np\n",
        "\n",
        "A = np.random.randint(1, 11, size=(2, 2))\n",
        "B = np.random.randint(1, 11, size=(2, 2))\n",
        "\n",
        "result = A * B\n",
        "\n",
        "print(\"Результат поелементного множення матриць A та B :\\n\", result)"
      ],
      "metadata": {
        "colab": {
          "base_uri": "https://localhost:8080/"
        },
        "id": "cDFOST4Ilt1j",
        "outputId": "18b06146-6d9e-460b-de2f-aaa24671b64e"
      },
      "execution_count": null,
      "outputs": [
        {
          "output_type": "stream",
          "name": "stdout",
          "text": [
            "Результат поелементного множення матриць A та B :\n",
            " [[20  5]\n",
            " [72  8]]\n"
          ]
        }
      ]
    },
    {
      "cell_type": "markdown",
      "source": [
        "13. Створіть дві матриці розміром 2x2, заповніть їх випадковими цілими числами в діапазоні від 1 до 10 та знайдіть їх добуток."
      ],
      "metadata": {
        "id": "RlxlIS_1K-IR"
      }
    },
    {
      "cell_type": "code",
      "source": [
        "import numpy as np\n",
        "\n",
        "A = np.random.randint(1, 11, size=(2, 2))\n",
        "B = np.random.randint(1, 11, size=(2, 2))\n",
        "\n",
        "result =np.dot(A, B)\n",
        "\n",
        "print(\"Результат добутка матриць A та B :\\n\", result)"
      ],
      "metadata": {
        "colab": {
          "base_uri": "https://localhost:8080/"
        },
        "id": "vN-CHNoIBpDr",
        "outputId": "c98f8a20-d109-4491-bfc1-6ba797556325"
      },
      "execution_count": null,
      "outputs": [
        {
          "output_type": "stream",
          "name": "stdout",
          "text": [
            "Результат добутка матриць A та B :\n",
            " [[46 34]\n",
            " [69 50]]\n"
          ]
        }
      ]
    },
    {
      "cell_type": "markdown",
      "source": [
        "14. Створіть матрицю розміром 5x5, заповніть її випадковими цілими числами в діапазоні від 1 до 100 та знайдіть суму елементів матриці."
      ],
      "metadata": {
        "id": "GbIHOxFFLBWR"
      }
    },
    {
      "cell_type": "code",
      "source": [
        "import numpy as np\n",
        "\n",
        "A = np.random.randint(1, 101, size=(5, 5))\n",
        "result = np.sum(A)\n",
        "\n",
        "print(\"Сума всіх елементів матриці A :\", result)"
      ],
      "metadata": {
        "colab": {
          "base_uri": "https://localhost:8080/"
        },
        "id": "Vymw3aLbEvdn",
        "outputId": "f99cb8d6-cbc6-45c8-d376-d2cbe0fba3d4"
      },
      "execution_count": null,
      "outputs": [
        {
          "output_type": "stream",
          "name": "stdout",
          "text": [
            "Сума всіх елементів матриці A : 1188\n"
          ]
        }
      ]
    },
    {
      "cell_type": "markdown",
      "source": [
        "15. Створіть дві матриці розміром 4x4, заповніть їх випадковими цілими числами в діапазоні від 1 до 10 та знайдіть їхню різницю."
      ],
      "metadata": {
        "id": "3Vkx7W9VLEoq"
      }
    },
    {
      "cell_type": "code",
      "source": [
        "import numpy as np\n",
        "\n",
        "A = np.random.randint(1, 11, size=(4, 4))\n",
        "B = np.random.randint(1, 11, size=(4, 4))\n",
        "\n",
        "\n",
        "result = np.subtract(A, B)\n",
        "\n",
        "print(\"Різниця матриць A та B: \\n\", result)"
      ],
      "metadata": {
        "colab": {
          "base_uri": "https://localhost:8080/"
        },
        "id": "-DXUPvJzFrq4",
        "outputId": "d53f5e5d-2daa-4778-92b4-a90fe544e93d"
      },
      "execution_count": null,
      "outputs": [
        {
          "output_type": "stream",
          "name": "stdout",
          "text": [
            "Різниця матриць A та B: \n",
            " [[ 4  3  3  5]\n",
            " [-2  2 -2  0]\n",
            " [-1  6  5  2]\n",
            " [-3  0 -3 -4]]\n"
          ]
        }
      ]
    },
    {
      "cell_type": "markdown",
      "source": [
        "16. Створіть матрицю розміром 3x3, заповніть її випадковими дійсними числами в діапазоні від 0 до 1 та знайдіть вектор-стовпчик, що містить суму елементів кожного рядка матриці."
      ],
      "metadata": {
        "id": "di4lYzt3LHE3"
      }
    },
    {
      "cell_type": "code",
      "source": [
        "import numpy as np\n",
        "\n",
        "B = np.random.rand(3, 3)\n",
        "result = np.sum(B, axis=1, keepdims=True)\n",
        "\n",
        "print(\"\\nВектор-стовпчик із сумами елементів кожного рядка матриці B:\\n\", result)"
      ],
      "metadata": {
        "colab": {
          "base_uri": "https://localhost:8080/"
        },
        "id": "ynhu3HUDS06L",
        "outputId": "ca02a945-f379-435d-bde8-570d9fbc73a4"
      },
      "execution_count": null,
      "outputs": [
        {
          "output_type": "stream",
          "name": "stdout",
          "text": [
            "\n",
            "Вектор-стовпчик із сумами елементів кожного рядка матриці B:\n",
            " [[2.21599006]\n",
            " [0.76017708]\n",
            " [1.04984125]]\n"
          ]
        }
      ]
    },
    {
      "cell_type": "markdown",
      "source": [
        "17. Створіть матрицю розміром 3x4 з довільними цілими числами і створінь матрицю з квадратами цих чисел."
      ],
      "metadata": {
        "id": "ju3w9-PCLKiB"
      }
    },
    {
      "cell_type": "code",
      "source": [
        "import numpy as np\n",
        "\n",
        "A = np.array([[1, 2, 3, 4],\n",
        "              [5, 6, 7, 8],\n",
        "              [9, 10, 11, 12]])\n",
        "\n",
        "result = np.square(A)\n",
        "\n",
        "print(\"\\nМатриця з квадратами чисел:\\n\", result)"
      ],
      "metadata": {
        "id": "V9qciiVqVum2",
        "colab": {
          "base_uri": "https://localhost:8080/"
        },
        "outputId": "0eb911d2-4ef2-4fdd-9a3d-5b524da56274"
      },
      "execution_count": null,
      "outputs": [
        {
          "output_type": "stream",
          "name": "stdout",
          "text": [
            "\n",
            "Матриця з квадратами чисел:\n",
            " [[  1   4   9  16]\n",
            " [ 25  36  49  64]\n",
            " [ 81 100 121 144]]\n"
          ]
        }
      ]
    },
    {
      "cell_type": "markdown",
      "source": [
        "18. Створіть вектор розміром 4, заповніть його випадковими цілими числами в діапазоні від 1 до 50 та знайдіть вектор з квадратними коренями цих чисел."
      ],
      "metadata": {
        "id": "IOvhkc5fLPJD"
      }
    },
    {
      "cell_type": "code",
      "source": [
        "import numpy as np\n",
        "\n",
        "a = np.random.randint(1, 51, size=4)\n",
        "\n",
        "result = np.sqrt(a)\n",
        "\n",
        "\n",
        "print(\"\\nВектор з квадратними коренями чисел вектору a:\\n\", result)\n"
      ],
      "metadata": {
        "colab": {
          "base_uri": "https://localhost:8080/"
        },
        "id": "qgk_-PxpZrz7",
        "outputId": "49138032-8ec7-4fa9-ef2d-38be0c0bb9ec"
      },
      "execution_count": null,
      "outputs": [
        {
          "output_type": "stream",
          "name": "stdout",
          "text": [
            "\n",
            "Вектор з квадратними коренями чисел вектору a:\n",
            " [3.60555128 5.38516481 6.244998   1.        ]\n"
          ]
        }
      ]
    }
  ]
}